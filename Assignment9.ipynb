{
 "cells": [
  {
   "cell_type": "code",
   "execution_count": null,
   "id": "38e5e2a9-4f44-49d2-886c-486e93836571",
   "metadata": {
    "tags": []
   },
   "outputs": [],
   "source": [
    "#Assignment9\n"
   ]
  },
  {
   "cell_type": "code",
   "execution_count": 1,
   "id": "55493804-f386-4fc9-bc82-21d3068896c0",
   "metadata": {
    "tags": []
   },
   "outputs": [],
   "source": [
    "class Animal:\n",
    "    def __init__(self, genus, name, year_of_b, country):\n",
    "        self.genus = genus\n",
    "        self.name = name\n",
    "        self.year_of_birth = year_of_b\n",
    "        self.country = country\n",
    "\n",
    "    def get_age(self, current_year=2024):\n",
    "        return current_year - self.year_of_birth\n",
    "\n",
    "    def get_info(self):\n",
    "        return (self.name+\" is a \"+self.genus)\n",
    "\n",
    "    def lives_in(self):\n",
    "        return (self.name+\" lives in \"+self.country)"
   ]
  },
  {
   "cell_type": "code",
   "execution_count": 6,
   "id": "0915046d-8bd5-4827-acdf-cba04b67dd86",
   "metadata": {
    "tags": []
   },
   "outputs": [],
   "source": [
    "\n",
    "    def oldest_animal_function(animals_list, current_year):\n",
    "        oldest_animal = max(animals_list, key=lambda animal: animal.get_age(current_year))\n",
    "        return oldest_animal"
   ]
  },
  {
   "cell_type": "code",
   "execution_count": 2,
   "id": "317af30d-1175-441f-bd7e-346e198acf76",
   "metadata": {
    "tags": []
   },
   "outputs": [],
   "source": [
    "animal1=Animal(\"dog\",\"Sharik\",2005,\"Russia\")\n",
    "animal2=Animal(\"cat\",\"Manon\",2012,\"France\")\n",
    "animal3=Animal(\"kangaroo\",\"Skippy\",1999,\"Australia\")\n",
    "animals_list = [animal1, animal2, animal3]"
   ]
  },
  {
   "cell_type": "code",
   "execution_count": 5,
   "id": "f62c3bc3-2ad7-46d6-9890-81cad4c94b5d",
   "metadata": {
    "tags": []
   },
   "outputs": [
    {
     "name": "stdout",
     "output_type": "stream",
     "text": [
      "dog Sharik\n",
      "cat Manon France\n",
      "19\n",
      "Sharik is a dog . Sharik lives in Russia\n"
     ]
    }
   ],
   "source": [
    "print(animal1.genus, animal1.name)\n",
    "print(animal2.genus, animal2.name,animal2.country)\n",
    "current_year=2024\n",
    "print(animal1.get_age())\n",
    "print(animal1.get_info(),\".\", animal1.lives_in())"
   ]
  },
  {
   "cell_type": "code",
   "execution_count": 8,
   "id": "7e427a07-7a5b-4ef2-b80a-fcc2230d4602",
   "metadata": {
    "tags": []
   },
   "outputs": [
    {
     "name": "stdout",
     "output_type": "stream",
     "text": [
      "Skippy kangaroo 25\n"
     ]
    }
   ],
   "source": [
    "oldest_animal = oldest_animal_function(animals_list, current_year)\n",
    "print(oldest_animal.name,oldest_animal.genus,oldest_animal.get_age())"
   ]
  },
  {
   "cell_type": "code",
   "execution_count": null,
   "id": "7a9eb572-098a-431a-b867-841992c83cce",
   "metadata": {
    "tags": []
   },
   "outputs": [],
   "source": [
    "file = open(\"Animals.txt\", \"w\")\n",
    "file.write(animal1.name + \" \" + animal1.genus + \"\\n\" + \n",
    "           animal2.name + \" \" + animal2.genus + \"\\n\" + \n",
    "           animal3.name + \" \" + animal3.genus + \"\\n\")\n",
    "\n",
    "file.close()"
   ]
  }
 ],
 "metadata": {
  "kernelspec": {
   "display_name": "Python 3 (ipykernel)",
   "language": "python",
   "name": "python3"
  },
  "language_info": {
   "codemirror_mode": {
    "name": "ipython",
    "version": 3
   },
   "file_extension": ".py",
   "mimetype": "text/x-python",
   "name": "python",
   "nbconvert_exporter": "python",
   "pygments_lexer": "ipython3",
   "version": "3.10.9"
  }
 },
 "nbformat": 4,
 "nbformat_minor": 5
}
